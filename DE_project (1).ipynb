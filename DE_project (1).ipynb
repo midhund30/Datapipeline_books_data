{
  "nbformat": 4,
  "nbformat_minor": 0,
  "metadata": {
    "colab": {
      "provenance": []
    },
    "kernelspec": {
      "name": "python3",
      "display_name": "Python 3"
    },
    "language_info": {
      "name": "python"
    }
  },
  "cells": [
    {
      "cell_type": "code",
      "source": [
        "#STEP_1: IMPORTING DATA\n",
        "import pandas as pd\n",
        "import re\n",
        "\n",
        "def loading_data(book):\n",
        "  book = pd.read_csv('project_dataset.csv')\n",
        "  return book"
      ],
      "metadata": {
        "id": "rAdBcpyffbo6"
      },
      "execution_count": null,
      "outputs": []
    },
    {
      "cell_type": "code",
      "source": [
        "#STEP_2: CLEANING THE AUTHOR AND NARRATOR NAMES\n",
        "\n",
        "def cleaning_names(book):\n",
        "  book[[\"written\",\"author_name\"]] = book.author.str.split(':',expand = True)\n",
        "  book[[\"nat\",\"narrator_name\"]] = book.narrator.str.split(':',expand = True)\n",
        "  book = book.drop(['author','written'],axis = 1)\n",
        "  book = book.drop(['narrator','nat'],axis = 1)\n",
        "  return book"
      ],
      "metadata": {
        "id": "AG7o5ryqhGMv"
      },
      "execution_count": null,
      "outputs": []
    },
    {
      "cell_type": "code",
      "source": [
        "#STEP_3: ADDING SPACES\n",
        "def name_changer(name):\n",
        "  name = re.sub('([A-Z])', r' \\1', name)\n",
        "  return name"
      ],
      "metadata": {
        "id": "7Y2YAwvHrGwR"
      },
      "execution_count": null,
      "outputs": []
    },
    {
      "cell_type": "code",
      "source": [
        "#STEP_3:AUTHOR CLEAN DATA\n",
        "def author_clean(book):\n",
        "  book.author_name = book.author_name.apply(name_changer)\n",
        "  return book\n"
      ],
      "metadata": {
        "id": "PzSV1HZUiYoh"
      },
      "execution_count": null,
      "outputs": []
    },
    {
      "cell_type": "code",
      "source": [
        "#STEP_3:NARRATOR CLEAN DATA\n",
        "def narrator_name(book):\n",
        "  book.narrator_name = book.narrator_name.apply(name_changer)\n",
        "  return book"
      ],
      "metadata": {
        "id": "nXZJPKinkZXD"
      },
      "execution_count": null,
      "outputs": []
    },
    {
      "cell_type": "code",
      "source": [
        "#STEP_4:EXTRACTING MINUTES\n",
        "\n",
        "def total_min(min):\n",
        "  time = min.split(' ')\n",
        "  minutes = 0\n",
        "  for i in range(len(time)):\n",
        "    if time[i].isdigit() and time[i+1][0].lower() == 'h':\n",
        "      minutes = int(time[i]) *60\n",
        "    elif time[i].isdigit() and time[i+1][0].lower() == 'm':\n",
        "      minutes = minutes + int(time[i])\n",
        "  return minutes"
      ],
      "metadata": {
        "id": "loQ-eosWkxW9"
      },
      "execution_count": null,
      "outputs": []
    },
    {
      "cell_type": "code",
      "source": [
        "#STEP_4: CREATING MINUTES COLUMN\n",
        "\n",
        "def minutes_column(book):\n",
        "  book['minutes'] =  book.time.apply(total_min)\n",
        "  return book\n"
      ],
      "metadata": {
        "id": "k_7JWWLelXiN"
      },
      "execution_count": null,
      "outputs": []
    },
    {
      "cell_type": "code",
      "source": [
        "#STEP_5: SETTING DATE\n",
        "\n",
        "def date(book):\n",
        "  book.releasedate = pd.to_datetime(book.releasedate,format ='%d-%m-%y')\n",
        "  return book"
      ],
      "metadata": {
        "id": "90F-pxaBl1qX"
      },
      "execution_count": null,
      "outputs": []
    },
    {
      "cell_type": "code",
      "source": [
        "#STEP_6: CLEANING RATING\n",
        "\n",
        "def rating(value):\n",
        "\n",
        "  temp = value.split(' ')\n",
        "\n",
        "  try:\n",
        "    float(temp[0])\n",
        "    fl = True\n",
        "  except ValueError:\n",
        "    fl = False\n",
        "\n",
        "  if temp[0].isalpha():\n",
        "    return 0\n",
        "  elif fl==True:\n",
        "    num = float(temp[0])\n",
        "    return num"
      ],
      "metadata": {
        "id": "KHDvEw1umKpo"
      },
      "execution_count": null,
      "outputs": []
    },
    {
      "cell_type": "code",
      "source": [
        "#STEP_6: CREATING RATING COLUMN\n",
        "\n",
        "def rating_column(book):\n",
        "  book['rating'] = book.stars.apply(rating)\n",
        "  return book"
      ],
      "metadata": {
        "id": "mvt5oOa9mabi"
      },
      "execution_count": null,
      "outputs": []
    },
    {
      "cell_type": "code",
      "source": [
        "#STEP_7:CLEANING RAATING COUNT\n",
        "\n",
        "def rating_count(star):\n",
        "  temp = star.split('stars')\n",
        "  if len(temp) == 1:\n",
        "    return 0\n",
        "  else:\n",
        "    star = temp[1]\n",
        "    star = star.split(' ')\n",
        "    return star[0]"
      ],
      "metadata": {
        "id": "WWeIoGLKmqpc"
      },
      "execution_count": null,
      "outputs": []
    },
    {
      "cell_type": "code",
      "source": [
        "#STEP_7: CREATING RATING COUNT COLUMN\n",
        "\n",
        "def number_of_rating(book):\n",
        "  book['number_of_rating'] = book.stars.apply(rating_count).str.replace(',','').fillna(0).astype('int')\n",
        "  return book"
      ],
      "metadata": {
        "id": "-lDAwEhRm0wl"
      },
      "execution_count": null,
      "outputs": []
    },
    {
      "cell_type": "code",
      "source": [
        "#step_8: CLEANING PRICE VALUES\n",
        "\n",
        "def float_price(price):\n",
        "    price = price.replace(',','')\n",
        "    try:\n",
        "      float(price)\n",
        "      fl = True\n",
        "    except ValueError:\n",
        "      fl = False\n",
        "\n",
        "    if fl:\n",
        "      return float(price)\n",
        "    else:\n",
        "      return float(0)"
      ],
      "metadata": {
        "id": "h7iafNkUnEcY"
      },
      "execution_count": null,
      "outputs": []
    },
    {
      "cell_type": "code",
      "source": [
        "#step_8:IMPLEMENTING CHANGES TO PRICE\n",
        "def price(book):\n",
        "  book['price'] = book.price.apply(float_price)\n",
        "  return book"
      ],
      "metadata": {
        "id": "6WFU0tOfnQ1h"
      },
      "execution_count": null,
      "outputs": []
    },
    {
      "cell_type": "code",
      "source": [
        "#STEP_9: REARRANGING_DATAFRAME\n",
        "\n",
        "def rearrange(book):\n",
        "  book.rename(columns = {'author_name':'author','narrator_name':'narrator'}, inplace = True)\n",
        "  book = book [['name','author','narrator', 'time', 'releasedate', 'language', 'stars', 'price',\n",
        "        'minutes', 'rating', 'number_of_rating']]\n",
        "  return book"
      ],
      "metadata": {
        "id": "XPukImGRnprM"
      },
      "execution_count": null,
      "outputs": []
    },
    {
      "cell_type": "code",
      "source": [
        "#STEP_10: CREATING OUTPUT CSV\n",
        "\n",
        "def output(book):\n",
        "  book.to_csv('output.csv', index = False)"
      ],
      "metadata": {
        "id": "vX_3EvmxoDmH"
      },
      "execution_count": null,
      "outputs": []
    },
    {
      "cell_type": "code",
      "source": [
        "#STEP_11: CREATING PIPELINE\n",
        "\n",
        "def pipeline_book():\n",
        "  book = 'project_dataset.csv'\n",
        "  book = loading_data(book)\n",
        "  book = cleaning_names(book)\n",
        "  book = author_clean(book)\n",
        "  book = narrator_name(book)\n",
        "  book = minutes_column(book)\n",
        "  book = date(book)\n",
        "  book = rating_column(book)\n",
        "  book = number_of_rating(book)\n",
        "  book = price(book)\n",
        "  book = rearrange(book)\n",
        "  output(book)\n",
        "\n"
      ],
      "metadata": {
        "id": "Wy5Qae6GoVr5"
      },
      "execution_count": null,
      "outputs": []
    },
    {
      "cell_type": "code",
      "source": [
        "pipeline_book()"
      ],
      "metadata": {
        "id": "4qUo5J_kpYjE"
      },
      "execution_count": null,
      "outputs": []
    }
  ]
}